{
  "nbformat": 4,
  "nbformat_minor": 0,
  "metadata": {
    "colab": {
      "name": "The_Probability_Mass_Function.ipynb",
      "version": "0.3.2",
      "provenance": [],
      "include_colab_link": true
    },
    "kernelspec": {
      "name": "python3",
      "display_name": "Python 3"
    }
  },
  "cells": [
    {
      "cell_type": "markdown",
      "metadata": {
        "id": "view-in-github",
        "colab_type": "text"
      },
      "source": [
        "<a href=\"https://colab.research.google.com/github/berkayopak/MassProbabilityFunction/blob/master/The_Probability_Mass_Function.ipynb\" target=\"_parent\"><img src=\"https://colab.research.google.com/assets/colab-badge.svg\" alt=\"Open In Colab\"/></a>"
      ]
    },
    {
      "cell_type": "markdown",
      "metadata": {
        "id": "kFtB8WYpH0O1",
        "colab_type": "text"
      },
      "source": [
        "# The Probability Mass Function (PMF)\n",
        "\n",
        "## Introduction\n",
        "The class size paradox describes the apparent contradictory findings where a total allocation of resources is fixed. Differences result in the perception of events based on whether we consider events from the point of view of the typical event or the typical person participating in an event. Such varying distributions can have important consequences for data analysis. pmfs can help resolve some of these situations as we shall see below\n",
        "\n",
        "## The Problem\n",
        "\n",
        "At an educational establishment, the expected student-to-teacher ratio is 10:1. But randomly interviewed students often feel that their average class size is much bigger than 10. There are two main reasons for such observations:\n",
        "\n",
        "    Students typically engage into 4 – 5 classes at any given time, but teachers only teach 1 or 2 classes.\n",
        "    An obvious fact, that number of students in a small class is small, and the number of students in a large class is large.\n",
        "\n",
        "Due to the second fact, while randomly taking feedback from students, we would surely come across more students from larger classes.\n",
        "\n",
        "Let's work through a set of data to re-create and analyze this paradox.\n",
        "\n",
        "Suppose that a college offers 65 classes in a term. We can start with a following distribution of sizes and counts:\n",
        "\n",
        "```\n",
        " size      count\n",
        " 5- 9          8\n",
        "10-14          8\n",
        "15-19         14\n",
        "20-24          4\n",
        "25-29          6\n",
        "30-34         12\n",
        "35-39          8\n",
        "40-44          3\n",
        "45-49          2\n",
        "\n",
        "```\n",
        "\n",
        "If the campus manager is inquired about the average average class size, he would perform the following tasks:\n",
        "\n",
        "    Construct a pmf from given data\n",
        "    Compute the mean from calculated pmf\n",
        "\n",
        "So let's follow the management approach first and see what mean we get from our pmf. Here is a size_and_count dictionary to get you started. Calculate the pmf from this data as we have seen before. For keys, we have used the average for each class size i.e. for size 5 - 9, we use 7 as an average.\n",
        "\n"
      ]
    },
    {
      "cell_type": "code",
      "metadata": {
        "id": "V1DX13Tz4SQu",
        "colab_type": "code",
        "colab": {
          "base_uri": "https://localhost:8080/",
          "height": 332
        },
        "outputId": "5afefd39-f133-4e50-fcb8-13c4106ee106"
      },
      "source": [
        "import numpy as np\n",
        "import pandas as pd\n",
        "import matplotlib.pyplot as plt\n",
        "import seaborn as sns\n",
        "%matplotlib inline\n",
        "\n",
        "data = {'Class_size': [7, 12, 17, 22, 27, 32, 37, 42, 47],\n",
        "       'Count': [8, 8, 14, 4, 6, 12, 8, 3, 2]}\n",
        "df = pd.DataFrame(data)\n",
        "df"
      ],
      "execution_count": 30,
      "outputs": [
        {
          "output_type": "execute_result",
          "data": {
            "text/html": [
              "<div>\n",
              "<style scoped>\n",
              "    .dataframe tbody tr th:only-of-type {\n",
              "        vertical-align: middle;\n",
              "    }\n",
              "\n",
              "    .dataframe tbody tr th {\n",
              "        vertical-align: top;\n",
              "    }\n",
              "\n",
              "    .dataframe thead th {\n",
              "        text-align: right;\n",
              "    }\n",
              "</style>\n",
              "<table border=\"1\" class=\"dataframe\">\n",
              "  <thead>\n",
              "    <tr style=\"text-align: right;\">\n",
              "      <th></th>\n",
              "      <th>Class_size</th>\n",
              "      <th>Count</th>\n",
              "    </tr>\n",
              "  </thead>\n",
              "  <tbody>\n",
              "    <tr>\n",
              "      <th>0</th>\n",
              "      <td>7</td>\n",
              "      <td>8</td>\n",
              "    </tr>\n",
              "    <tr>\n",
              "      <th>1</th>\n",
              "      <td>12</td>\n",
              "      <td>8</td>\n",
              "    </tr>\n",
              "    <tr>\n",
              "      <th>2</th>\n",
              "      <td>17</td>\n",
              "      <td>14</td>\n",
              "    </tr>\n",
              "    <tr>\n",
              "      <th>3</th>\n",
              "      <td>22</td>\n",
              "      <td>4</td>\n",
              "    </tr>\n",
              "    <tr>\n",
              "      <th>4</th>\n",
              "      <td>27</td>\n",
              "      <td>6</td>\n",
              "    </tr>\n",
              "    <tr>\n",
              "      <th>5</th>\n",
              "      <td>32</td>\n",
              "      <td>12</td>\n",
              "    </tr>\n",
              "    <tr>\n",
              "      <th>6</th>\n",
              "      <td>37</td>\n",
              "      <td>8</td>\n",
              "    </tr>\n",
              "    <tr>\n",
              "      <th>7</th>\n",
              "      <td>42</td>\n",
              "      <td>3</td>\n",
              "    </tr>\n",
              "    <tr>\n",
              "      <th>8</th>\n",
              "      <td>47</td>\n",
              "      <td>2</td>\n",
              "    </tr>\n",
              "  </tbody>\n",
              "</table>\n",
              "</div>"
            ],
            "text/plain": [
              "   Class_size  Count\n",
              "0           7      8\n",
              "1          12      8\n",
              "2          17     14\n",
              "3          22      4\n",
              "4          27      6\n",
              "5          32     12\n",
              "6          37      8\n",
              "7          42      3\n",
              "8          47      2"
            ]
          },
          "metadata": {
            "tags": []
          },
          "execution_count": 30
        }
      ]
    },
    {
      "cell_type": "markdown",
      "metadata": {
        "id": "p_CVcOQ8Iqax",
        "colab_type": "text"
      },
      "source": [
        "Following the approach seen in the previous lesson, calculate the pmf by normalizing each size."
      ]
    },
    {
      "cell_type": "code",
      "metadata": {
        "id": "KvoCP2kF4X9a",
        "colab_type": "code",
        "colab": {
          "base_uri": "https://localhost:8080/",
          "height": 332
        },
        "outputId": "2af568cc-4429-41fd-b415-10439417209d"
      },
      "source": [
        "df[\"pmf\"] = df[\"Count\"] / df[\"Count\"].sum()\n",
        "df"
      ],
      "execution_count": 31,
      "outputs": [
        {
          "output_type": "execute_result",
          "data": {
            "text/html": [
              "<div>\n",
              "<style scoped>\n",
              "    .dataframe tbody tr th:only-of-type {\n",
              "        vertical-align: middle;\n",
              "    }\n",
              "\n",
              "    .dataframe tbody tr th {\n",
              "        vertical-align: top;\n",
              "    }\n",
              "\n",
              "    .dataframe thead th {\n",
              "        text-align: right;\n",
              "    }\n",
              "</style>\n",
              "<table border=\"1\" class=\"dataframe\">\n",
              "  <thead>\n",
              "    <tr style=\"text-align: right;\">\n",
              "      <th></th>\n",
              "      <th>Class_size</th>\n",
              "      <th>Count</th>\n",
              "      <th>pmf</th>\n",
              "    </tr>\n",
              "  </thead>\n",
              "  <tbody>\n",
              "    <tr>\n",
              "      <th>0</th>\n",
              "      <td>7</td>\n",
              "      <td>8</td>\n",
              "      <td>0.123077</td>\n",
              "    </tr>\n",
              "    <tr>\n",
              "      <th>1</th>\n",
              "      <td>12</td>\n",
              "      <td>8</td>\n",
              "      <td>0.123077</td>\n",
              "    </tr>\n",
              "    <tr>\n",
              "      <th>2</th>\n",
              "      <td>17</td>\n",
              "      <td>14</td>\n",
              "      <td>0.215385</td>\n",
              "    </tr>\n",
              "    <tr>\n",
              "      <th>3</th>\n",
              "      <td>22</td>\n",
              "      <td>4</td>\n",
              "      <td>0.061538</td>\n",
              "    </tr>\n",
              "    <tr>\n",
              "      <th>4</th>\n",
              "      <td>27</td>\n",
              "      <td>6</td>\n",
              "      <td>0.092308</td>\n",
              "    </tr>\n",
              "    <tr>\n",
              "      <th>5</th>\n",
              "      <td>32</td>\n",
              "      <td>12</td>\n",
              "      <td>0.184615</td>\n",
              "    </tr>\n",
              "    <tr>\n",
              "      <th>6</th>\n",
              "      <td>37</td>\n",
              "      <td>8</td>\n",
              "      <td>0.123077</td>\n",
              "    </tr>\n",
              "    <tr>\n",
              "      <th>7</th>\n",
              "      <td>42</td>\n",
              "      <td>3</td>\n",
              "      <td>0.046154</td>\n",
              "    </tr>\n",
              "    <tr>\n",
              "      <th>8</th>\n",
              "      <td>47</td>\n",
              "      <td>2</td>\n",
              "      <td>0.030769</td>\n",
              "    </tr>\n",
              "  </tbody>\n",
              "</table>\n",
              "</div>"
            ],
            "text/plain": [
              "   Class_size  Count       pmf\n",
              "0           7      8  0.123077\n",
              "1          12      8  0.123077\n",
              "2          17     14  0.215385\n",
              "3          22      4  0.061538\n",
              "4          27      6  0.092308\n",
              "5          32     12  0.184615\n",
              "6          37      8  0.123077\n",
              "7          42      3  0.046154\n",
              "8          47      2  0.030769"
            ]
          },
          "metadata": {
            "tags": []
          },
          "execution_count": 31
        }
      ]
    },
    {
      "cell_type": "markdown",
      "metadata": {
        "id": "74pjjvidJGoL",
        "colab_type": "text"
      },
      "source": [
        "\n",
        "## Calculate Mean / Expected Value (E)\n",
        "\n",
        "We can now calculate the average of Expected value for this distribution.\n",
        "\n",
        "    The mean μ ( or expected value E,E [X] ) of a random variable X is the sum of the weighted possible values for X; weighted, that is, by their respective probabilities. If S is the set of all possible values for X, then the formula for the mean is:\n",
        "\n",
        "μ = ∑ x ∈ S x ⋅ p (x)\n",
        "\n",
        "In simple terms, we must multiply each element in the sizes list to their probability of occurrence. Let's do this way: \n"
      ]
    },
    {
      "cell_type": "code",
      "metadata": {
        "id": "ooNlLovR68Wj",
        "colab_type": "code",
        "colab": {
          "base_uri": "https://localhost:8080/",
          "height": 35
        },
        "outputId": "ac37d584-6eb2-4c42-9b60-0a3b47717991"
      },
      "source": [
        "weighted_values = (df[\"Count\"]*df[\"Class_size\"])\n",
        "actual_mean = weighted_values.sum()/ df[\"Count\"].sum()\n",
        "actual_mean"
      ],
      "execution_count": 32,
      "outputs": [
        {
          "output_type": "execute_result",
          "data": {
            "text/plain": [
              "23.692307692307693"
            ]
          },
          "metadata": {
            "tags": []
          },
          "execution_count": 32
        }
      ]
    },
    {
      "cell_type": "markdown",
      "metadata": {
        "id": "hJh5wrt8JhJ9",
        "colab_type": "text"
      },
      "source": [
        "So the campus manager's answer would be 23.7 , as the average class size. And this makes a lot of sense too looking at our calculation above. We can plot a pmf function based on above findings for inspections."
      ]
    },
    {
      "cell_type": "code",
      "metadata": {
        "id": "eyVJaAcC7MVj",
        "colab_type": "code",
        "colab": {
          "base_uri": "https://localhost:8080/",
          "height": 302
        },
        "outputId": "0d49a05a-b6e5-49af-d8a0-5e8157994277"
      },
      "source": [
        "sns.barplot(df[\"Class_size\"], df[\"pmf\"])"
      ],
      "execution_count": 33,
      "outputs": [
        {
          "output_type": "execute_result",
          "data": {
            "text/plain": [
              "<matplotlib.axes._subplots.AxesSubplot at 0x7f97f75b25f8>"
            ]
          },
          "metadata": {
            "tags": []
          },
          "execution_count": 33
        },
        {
          "output_type": "display_data",
          "data": {
            "image/png": "[encoded data removed]",
            "text/plain": [
              "<Figure size 432x288 with 1 Axes>"
            ]
          },
          "metadata": {
            "tags": []
          }
        }
      ]
    },
    {
      "cell_type": "markdown",
      "metadata": {
        "id": "h_KwPz23JsMa",
        "colab_type": "text"
      },
      "source": [
        "\n",
        "## Random Student Survey\n",
        "\n",
        "Now if we survey a random group of students about size of their classes, and compute the mean, according to the paradox, we would observe that the average class is much bigger than 23.7. Howcome !!! Let's see this in action below:\n",
        "\n",
        "First, let's compute a distribution as a likely observation by students, where the probability associated with each class size is “biased” by the number of students in the class. Perform following tasks to introduce this biasness.\n",
        "\n",
        "   * For each class size x, multiply the class probability by x, the number of students who observe that class size.\n",
        "   * Get the sum for biased class size sum The result is a new Pmf that represents the biased distribution.\n",
        "\n",
        "\n",
        "This is great so far, we can now normalize the new biased list with the sum of its values, just like we did before.\n",
        "\n",
        "   * Normalize the biased list and calculate the new pmf\n",
        "\n",
        "\n"
      ]
    },
    {
      "cell_type": "code",
      "metadata": {
        "id": "96XStgJw7wA_",
        "colab_type": "code",
        "colab": {
          "base_uri": "https://localhost:8080/",
          "height": 332
        },
        "outputId": "b9cb8c85-c8a5-4f5d-aacf-286c2de04a08"
      },
      "source": [
        "biased_data = {'Class_size': [7, 12, 17, 22, 27, 32, 37, 42, 47],\n",
        "              'bias' : [0.861, 1.476, 3.655, 1.3639999999999999, 2.484, 5.92, 4.551, 1.932, 1.457]}\n",
        "biased_df = pd.DataFrame(biased_data)\n",
        "biased_df['pmf'] = biased_df['bias'] / biased_df['bias'].sum()\n",
        "biased_df"
      ],
      "execution_count": 80,
      "outputs": [
        {
          "output_type": "execute_result",
          "data": {
            "text/html": [
              "<div>\n",
              "<style scoped>\n",
              "    .dataframe tbody tr th:only-of-type {\n",
              "        vertical-align: middle;\n",
              "    }\n",
              "\n",
              "    .dataframe tbody tr th {\n",
              "        vertical-align: top;\n",
              "    }\n",
              "\n",
              "    .dataframe thead th {\n",
              "        text-align: right;\n",
              "    }\n",
              "</style>\n",
              "<table border=\"1\" class=\"dataframe\">\n",
              "  <thead>\n",
              "    <tr style=\"text-align: right;\">\n",
              "      <th></th>\n",
              "      <th>Class_size</th>\n",
              "      <th>bias</th>\n",
              "      <th>pmf</th>\n",
              "    </tr>\n",
              "  </thead>\n",
              "  <tbody>\n",
              "    <tr>\n",
              "      <th>0</th>\n",
              "      <td>7</td>\n",
              "      <td>0.861</td>\n",
              "      <td>0.036329</td>\n",
              "    </tr>\n",
              "    <tr>\n",
              "      <th>1</th>\n",
              "      <td>12</td>\n",
              "      <td>1.476</td>\n",
              "      <td>0.062278</td>\n",
              "    </tr>\n",
              "    <tr>\n",
              "      <th>2</th>\n",
              "      <td>17</td>\n",
              "      <td>3.655</td>\n",
              "      <td>0.154219</td>\n",
              "    </tr>\n",
              "    <tr>\n",
              "      <th>3</th>\n",
              "      <td>22</td>\n",
              "      <td>1.364</td>\n",
              "      <td>0.057553</td>\n",
              "    </tr>\n",
              "    <tr>\n",
              "      <th>4</th>\n",
              "      <td>27</td>\n",
              "      <td>2.484</td>\n",
              "      <td>0.104810</td>\n",
              "    </tr>\n",
              "    <tr>\n",
              "      <th>5</th>\n",
              "      <td>32</td>\n",
              "      <td>5.920</td>\n",
              "      <td>0.249789</td>\n",
              "    </tr>\n",
              "    <tr>\n",
              "      <th>6</th>\n",
              "      <td>37</td>\n",
              "      <td>4.551</td>\n",
              "      <td>0.192025</td>\n",
              "    </tr>\n",
              "    <tr>\n",
              "      <th>7</th>\n",
              "      <td>42</td>\n",
              "      <td>1.932</td>\n",
              "      <td>0.081519</td>\n",
              "    </tr>\n",
              "    <tr>\n",
              "      <th>8</th>\n",
              "      <td>47</td>\n",
              "      <td>1.457</td>\n",
              "      <td>0.061477</td>\n",
              "    </tr>\n",
              "  </tbody>\n",
              "</table>\n",
              "</div>"
            ],
            "text/plain": [
              "   Class_size   bias       pmf\n",
              "0           7  0.861  0.036329\n",
              "1          12  1.476  0.062278\n",
              "2          17  3.655  0.154219\n",
              "3          22  1.364  0.057553\n",
              "4          27  2.484  0.104810\n",
              "5          32  5.920  0.249789\n",
              "6          37  4.551  0.192025\n",
              "7          42  1.932  0.081519\n",
              "8          47  1.457  0.061477"
            ]
          },
          "metadata": {
            "tags": []
          },
          "execution_count": 80
        }
      ]
    },
    {
      "cell_type": "markdown",
      "metadata": {
        "id": "3i0zIk-GKQcY",
        "colab_type": "text"
      },
      "source": [
        "Right so we can see that probabilities values in this pmf are different than our original pmf. So just like before, we can calulcate the MU, average or expected value."
      ]
    },
    {
      "cell_type": "code",
      "metadata": {
        "id": "ja-FKmayKRsU",
        "colab_type": "code",
        "colab": {
          "base_uri": "https://localhost:8080/",
          "height": 35
        },
        "outputId": "4e6e15d0-86a6-4d33-e24a-2f37abcbe172"
      },
      "source": [
        "weighted_b_values = (biased_df[\"bias\"]*biased_df[\"Class_size\"])\n",
        "biased_mean = weighted_b_values.sum()/ biased_df[\"bias\"].sum()\n",
        "biased_mean"
      ],
      "execution_count": 87,
      "outputs": [
        {
          "output_type": "execute_result",
          "data": {
            "text/plain": [
              "29.130801687763714"
            ]
          },
          "metadata": {
            "tags": []
          },
          "execution_count": 87
        }
      ]
    },
    {
      "cell_type": "markdown",
      "metadata": {
        "id": "VL7P1If9OyWQ",
        "colab_type": "text"
      },
      "source": [
        "\n",
        "\n",
        "the biased mean is much higher than our actual mean\n",
        "Here comes the paradox\n",
        "\n",
        "Here we see it, the average or expected value of biased results become much higher than the average of actual values. In some situations, such a paradox could be mind boggling. As an extra measure , we can inspect both pmfs side by side in a visual manner to see the differences.\n",
        "\n",
        "    Plot a figure with two axes\n",
        "    Show pmf1 and pmf2 side by side.\n",
        "\n"
      ]
    },
    {
      "cell_type": "code",
      "metadata": {
        "id": "v-4xqxarB0wX",
        "colab_type": "code",
        "colab": {
          "base_uri": "https://localhost:8080/",
          "height": 302
        },
        "outputId": "72b74112-5a58-4e21-a6b3-66030e17f6ab"
      },
      "source": [
        "fig, ax =plt.subplots(1,2)\n",
        "sns.barplot(df[\"Class_size\"], df[\"pmf\"], ax=ax[0])\n",
        "sns.barplot(biased_df[\"Class_size\"], biased_df[\"pmf\"], ax=ax[1])"
      ],
      "execution_count": 88,
      "outputs": [
        {
          "output_type": "execute_result",
          "data": {
            "text/plain": [
              "<matplotlib.axes._subplots.AxesSubplot at 0x7f97e8e015f8>"
            ]
          },
          "metadata": {
            "tags": []
          },
          "execution_count": 88
        },
        {
          "output_type": "display_data",
          "data": {
            "image/png": "[encoded data removed]",
            "text/plain": [
              "<Figure size 432x288 with 2 Axes>"
            ]
          },
          "metadata": {
            "tags": []
          }
        }
      ]
    },
    {
      "cell_type": "markdown",
      "metadata": {
        "id": "Et_xAzO0Ni2v",
        "colab_type": "text"
      },
      "source": [
        "\n",
        "\n",
        "So our results tell us that in the biased distribution there are fewer small classes and more large classes.\n",
        "\n",
        "The mean of the biased distribution is 29.1, almost 25% higher than the actual mean.\n",
        "\n",
        "To to an even more direct comparison, plot these pmfs on top of each other and change the marker style for differentiation.\n",
        "\n",
        "\n",
        "<p><span><b>Red = Actual Data</b></span></p>\n",
        "<p><span><b>Blue = Observed Data</b></span></p>\n"
      ]
    },
    {
      "cell_type": "code",
      "metadata": {
        "id": "dFF1ZsN0CPkz",
        "colab_type": "code",
        "colab": {
          "base_uri": "https://localhost:8080/",
          "height": 302
        },
        "outputId": "267e7248-ae52-4431-9259-1b307ebf5665"
      },
      "source": [
        "\n",
        "fig, ax =plt.subplots(1,2)\n",
        "\n",
        "sns.barplot(biased_df[\"Class_size\"], biased_df[\"pmf\"], ax=ax[0], color ='b')\n",
        "sns.barplot(df[\"Class_size\"], df[\"pmf\"], ax=ax[0], color ='r')\n",
        "\n",
        "sns.barplot(df[\"Class_size\"], df[\"pmf\"], ax=ax[1], color ='r')\n",
        "sns.barplot(biased_df[\"Class_size\"], biased_df[\"pmf\"], ax=ax[1], color ='b')\n",
        "\n"
      ],
      "execution_count": 97,
      "outputs": [
        {
          "output_type": "execute_result",
          "data": {
            "text/plain": [
              "<matplotlib.axes._subplots.AxesSubplot at 0x7f97e87c7710>"
            ]
          },
          "metadata": {
            "tags": []
          },
          "execution_count": 97
        },
        {
          "output_type": "display_data",
          "data": {
            "image/png": "[encoded data removed]",
            "text/plain": [
              "<Figure size 432x288 with 2 Axes>"
            ]
          },
          "metadata": {
            "tags": []
          }
        }
      ]
    },
    {
      "cell_type": "code",
      "metadata": {
        "id": "NqqNtv-pEpXR",
        "colab_type": "code",
        "colab": {
          "base_uri": "https://localhost:8080/",
          "height": 302
        },
        "outputId": "c95806c8-0ad8-4e2a-c22d-4dcb4328a258"
      },
      "source": [
        "concatenated = pd.concat([df.assign(dataset='df'), biased_df.assign(dataset='biased_df')], sort=False)\n",
        "sns.scatterplot(x='Class_size', y='pmf', data=concatenated,\n",
        "                hue='pmf', style='dataset', s=100)"
      ],
      "execution_count": 76,
      "outputs": [
        {
          "output_type": "execute_result",
          "data": {
            "text/plain": [
              "<matplotlib.axes._subplots.AxesSubplot at 0x7f97e9052f28>"
            ]
          },
          "metadata": {
            "tags": []
          },
          "execution_count": 76
        },
        {
          "output_type": "display_data",
          "data": {
            "image/png": "[encoded data removed]",
            "text/plain": [
              "<Figure size 432x288 with 1 Axes>"
            ]
          },
          "metadata": {
            "tags": []
          }
        }
      ]
    },
    {
      "cell_type": "markdown",
      "metadata": {
        "id": "qSxkzx59PDfS",
        "colab_type": "text"
      },
      "source": [
        "\n",
        "\n",
        "Here is the key, We can see for smaller class sizes, the probability of coming across a students is lower than actual probability. Also, in the larger classes, the the probability of coming across a student is much higher than actual probability. And hence this appears to an observer as a Paradox. But its not a paradox for us anymore .. We have nailed it."
      ]
    }
  ]
}